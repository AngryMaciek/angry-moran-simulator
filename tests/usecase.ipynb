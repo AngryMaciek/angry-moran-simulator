{
 "cells": [
  {
   "cell_type": "code",
   "execution_count": 1,
   "metadata": {},
   "outputs": [],
   "source": [
    "import os\n",
    "import yaml\n",
    "from IPython.display import display, HTML, Image\n",
    "import numpy as np\n",
    "import pandas as pd\n",
    "import matplotlib.pyplot as plt\n",
    "%matplotlib inline\n",
    "import seaborn as sns\n",
    "sns.set_context(\"poster\")\n",
    "sns.set_style(\"ticks\")"
   ]
  },
  {
   "cell_type": "markdown",
   "metadata": {},
   "source": [
    "AUTHOR: Maciej_Bak  \n",
    "AFFILIATION: University_of_Basel  \n",
    "AFFILIATION: Swiss_Institute_of_Bioinformatics  \n",
    "CONTACT: wsciekly.maciek@gmail.com  \n",
    "CREATED: 25-07-2020  \n",
    "LICENSE: MIT"
   ]
  },
  {
   "cell_type": "markdown",
   "metadata": {},
   "source": [
    "# <center>Report Title</center>"
   ]
  },
  {
   "cell_type": "markdown",
   "metadata": {},
   "source": [
    "## Section 1"
   ]
  },
  {
   "cell_type": "markdown",
   "metadata": {},
   "source": [
    "Hyperlinks are parsed automatically: https://www.google.com  \n",
    "\n",
    "Items might be listed:\n",
    " * 1\n",
    " * 2\n",
    "  * 2a\n",
    "  * 2b\n",
    "  \n",
    "Math mode of $\\LaTeX$ is parsed properly: $\\alpha = \\frac{\\beta}{\\gamma \\times \\delta^\\epsilon}$  \n",
    "\n",
    "Text might be stressed in *italic* or **bold**."
   ]
  },
  {
   "cell_type": "markdown",
   "metadata": {},
   "source": [
    "---"
   ]
  }
 ],
 "metadata": {
  "kernelspec": {
   "display_name": "Python 3",
   "language": "python",
   "name": "python3"
  },
  "language_info": {
   "codemirror_mode": {
    "name": "ipython",
    "version": 3
   },
   "file_extension": ".py",
   "mimetype": "text/x-python",
   "name": "python",
   "nbconvert_exporter": "python",
   "pygments_lexer": "ipython3",
   "version": "3.7.4"
  }
 },
 "nbformat": 4,
 "nbformat_minor": 4
}
